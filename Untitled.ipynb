{
 "cells": [
  {
   "cell_type": "code",
   "execution_count": 1,
   "id": "276b4075",
   "metadata": {},
   "outputs": [
    {
     "name": "stdout",
     "output_type": "stream",
     "text": [
      "Hello World\n"
     ]
    }
   ],
   "source": [
    "print(\"Hello World\")"
   ]
  },
  {
   "cell_type": "code",
   "execution_count": 2,
   "id": "71430a61",
   "metadata": {},
   "outputs": [
    {
     "name": "stdout",
     "output_type": "stream",
     "text": [
      "this is my first jupyter notebook\n"
     ]
    }
   ],
   "source": [
    "def new():\n",
    "    print(\"this is my first jupyter notebook\")\n",
    "    \n",
    "\n",
    "new()"
   ]
  },
  {
   "cell_type": "markdown",
   "id": "3c647268",
   "metadata": {},
   "source": [
    "I really like the formatting of this"
   ]
  }
 ],
 "metadata": {
  "kernelspec": {
   "display_name": "Python 3 (ipykernel)",
   "language": "python",
   "name": "python3"
  },
  "language_info": {
   "codemirror_mode": {
    "name": "ipython",
    "version": 3
   },
   "file_extension": ".py",
   "mimetype": "text/x-python",
   "name": "python",
   "nbconvert_exporter": "python",
   "pygments_lexer": "ipython3",
   "version": "3.9.12"
  }
 },
 "nbformat": 4,
 "nbformat_minor": 5
}
